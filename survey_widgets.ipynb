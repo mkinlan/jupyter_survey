{
 "cells": [
  {
   "cell_type": "markdown",
   "id": "sealed-vegetarian",
   "metadata": {},
   "source": [
    "# Initial Survey"
   ]
  },
  {
   "cell_type": "code",
   "execution_count": null,
   "id": "experimental-skating",
   "metadata": {},
   "outputs": [],
   "source": [
    "#pip install ipywidgets\n",
    "#jupyter labextension install @jupyter-widgets/jupyterlab-manager"
   ]
  },
  {
   "cell_type": "code",
   "execution_count": null,
   "id": "occupied-official",
   "metadata": {},
   "outputs": [],
   "source": [
    "pip install ipywidgets\n",
    "pip install pandas"
   ]
  },
  {
   "cell_type": "code",
   "execution_count": null,
   "id": "continuous-guide",
   "metadata": {},
   "outputs": [],
   "source": [
    "#functions to use with widgets\n",
    "from IPython.display import display, Markdown, clear_output\n",
    "from ipywidgets import *\n",
    "import ipywidgets as widgets\n",
    "import pandas as pd"
   ]
  },
  {
   "cell_type": "markdown",
   "id": "shaped-formula",
   "metadata": {},
   "source": [
    "## Instructions"
   ]
  },
  {
   "cell_type": "markdown",
   "id": "nonprofit-granny",
   "metadata": {},
   "source": [
    "Here are some instructions for the survey."
   ]
  },
  {
   "cell_type": "code",
   "execution_count": null,
   "id": "varied-biography",
   "metadata": {},
   "outputs": [],
   "source": [
    "#Submitter info widgets\n",
    "org = widgets.Text(placeholder='Enter org name',description='Organization' )\n",
    "date = widgets.DatePicker(description='Select Date')\n",
    "\n",
    "display(VBox([org,date]))"
   ]
  },
  {
   "cell_type": "markdown",
   "id": "central-parent",
   "metadata": {},
   "source": [
    "1. On a scale of 1-10 (1 being least important, 10 being most important), how important is it to you to have a tool that allows you to do each of the following:"
   ]
  },
  {
   "cell_type": "code",
   "execution_count": null,
   "id": "closed-december",
   "metadata": {},
   "outputs": [],
   "source": [
    "#Question 1 widgets\n",
    "q1a = widgets.IntSlider(min=1,max=10)\n",
    "L1a = Label(\"a. Communicate your findings to groups outside of your organization (field partners, customers)?\")\n",
    "q1b = widgets.IntSlider(min=1,max=10)\n",
    "L1b = Label(\"b. Rank or prioritize your results (triage high-priority vs low-priority results)\")\n",
    "\n",
    "display(HBox([L1a,q1a]))\n",
    "display(HBox([L1b,q1b]))"
   ]
  },
  {
   "cell_type": "markdown",
   "id": "democratic-chair",
   "metadata": {},
   "source": [
    "2. What is your office's primary business activity?"
   ]
  },
  {
   "cell_type": "code",
   "execution_count": null,
   "id": "personalized-ridge",
   "metadata": {},
   "outputs": [],
   "source": [
    "#Queston 2 widgets\n",
    "q2 = widgets.Text(placeholder='Type response here')\n",
    "display(HBox([q2]))"
   ]
  },
  {
   "cell_type": "markdown",
   "id": "fitted-newark",
   "metadata": {},
   "source": [
    "3. In one sentence, how would you describe your job function? "
   ]
  },
  {
   "cell_type": "code",
   "execution_count": null,
   "id": "bright-beaver",
   "metadata": {},
   "outputs": [],
   "source": [
    "#Question 3 widgets\n",
    "q3 = widgets.Text(placeholder='Type response here')\n",
    "display(HBox([q3]))"
   ]
  },
  {
   "cell_type": "markdown",
   "id": "aware-texture",
   "metadata": {},
   "source": [
    "4. What role does your job fill in your office's mission? "
   ]
  },
  {
   "cell_type": "code",
   "execution_count": null,
   "id": "mineral-kitchen",
   "metadata": {},
   "outputs": [],
   "source": [
    "#Question 4 widgets\n",
    "q4 = widgets.Text(placeholder='Type response here')\n",
    "display(HBox([q4]))"
   ]
  },
  {
   "cell_type": "markdown",
   "id": "extraordinary-control",
   "metadata": {},
   "source": [
    "5. During your daily workflow, what are the three most important tools that you use? "
   ]
  },
  {
   "cell_type": "code",
   "execution_count": null,
   "id": "mighty-longer",
   "metadata": {},
   "outputs": [],
   "source": [
    "#Question 5 widgets\n",
    "q5a = widgets.Text(placeholder='High importance')\n",
    "q5b = widgets.Text(placeholder='Medium importance')\n",
    "q5c = widgets.Text(placeholder='Low importance')\n",
    "display(VBox([q5a,q5b,q5c]))"
   ]
  },
  {
   "cell_type": "markdown",
   "id": "brave-stevens",
   "metadata": {},
   "source": [
    "6. On a scale of 1-10, how comfortable are you using each of the following tools?"
   ]
  },
  {
   "cell_type": "code",
   "execution_count": null,
   "id": "growing-curve",
   "metadata": {},
   "outputs": [],
   "source": [
    "#Question 6 widgets\n",
    "q6a = widgets.IntSlider(min=1,max=10)\n",
    "L6a = Label(\"Version Control Systems (e.g., Git, Subversion (SVN), Mercurial, Concurrent Versions System (CVS)) \")\n",
    "q6b = widgets.IntSlider(min=1,max=10)\n",
    "L6b = Label(\"Linux (e.g. Kali, Ubuntu, Redhat)\")\n",
    "q6c = widgets.IntSlider(min=1,max=10)\n",
    "L6c = Label(\"Python Programming Language\")\n",
    "q6d = widgets.IntSlider(min=1,max=10)\n",
    "L6d = Label(\"Jupyter Notebooks\")\n",
    "q6e = widgets.IntSlider(min=1,max=10)\n",
    "L6e = Label(\"Data Visualization (e.g. Splunk, Kibana)\")\n",
    "q6f = widgets.IntSlider(min=1,max=10)\n",
    "L6f = Label(\"Geographic Information System (GIS) (e.g., ArcGIS, QGIS)\")\n",
    "\n",
    "\n",
    "display(HBox([L6a,q6a]))\n",
    "display(HBox([L6b,q6b]))\n",
    "display(HBox([L6c,q6c]))\n",
    "display(HBox([L6d,q6d]))\n",
    "display(HBox([L6e,q6e]))\n",
    "display(HBox([L6f,q6f]))"
   ]
  },
  {
   "cell_type": "markdown",
   "id": "greater-beatles",
   "metadata": {},
   "source": [
    "7. On a scale of 1-10, what is your skill level with each of the following tools?"
   ]
  },
  {
   "cell_type": "code",
   "execution_count": null,
   "id": "determined-microwave",
   "metadata": {},
   "outputs": [],
   "source": [
    "#Question 7 widgets\n",
    "q7a = widgets.IntSlider(min=1,max=10)\n",
    "L7a = Label(\"Snort\")\n",
    "q7b = widgets.IntSlider(min=1,max=10)\n",
    "L7b = Label(\"Yara\")\n",
    "q7c = widgets.IntSlider(min=1,max=10)\n",
    "L7c = Label(\"Bro (now Zeek)\")\n",
    "q7d = widgets.IntSlider(min=1,max=10)\n",
    "L7d = Label(\"Splunk\")\n",
    "q7e = widgets.IntSlider(min=1,max=10)\n",
    "L7e = Label(\"Wireshark\")\n",
    "q7f = widgets.IntSlider(min=1,max=10)\n",
    "L7f = Label(\"Cloudshark\")\n",
    "q7g = widgets.Text(placeholder='Enter name of other system')\n",
    "L7g = Label(\"Other intrusion detection systems\")\n",
    "q7h = widgets.IntSlider(min=1,max=10)\n",
    "\n",
    "display(HBox([L7a,q7a]))\n",
    "display(HBox([L7b,q7b]))\n",
    "display(HBox([L7c,q7c]))\n",
    "display(HBox([L7d,q7d]))\n",
    "display(HBox([L7e,q7e]))\n",
    "display(HBox([L7f,q7f]))\n",
    "display(HBox([L7g,q7g,q7h]))"
   ]
  },
  {
   "cell_type": "markdown",
   "id": "intermediate-smooth",
   "metadata": {},
   "source": [
    "8. In your job role, what is the one thing that..."
   ]
  },
  {
   "cell_type": "code",
   "execution_count": null,
   "id": "fitting-transition",
   "metadata": {},
   "outputs": [],
   "source": [
    "#Question 8 widgets\n",
    "q8a = widgets.Text(placeholder='Enter text')\n",
    "L8a = Label(\"- you consider most frustrating?\")\n",
    "q8b = widgets.Text(placeholder='Enter text')\n",
    "L8b = Label(\"- could increase your effectiveness/success?\")\n",
    "\n",
    "\n",
    "display(HBox([L8a,q8a]))\n",
    "display(HBox([L8b,q8b]))"
   ]
  },
  {
   "cell_type": "markdown",
   "id": "retained-academy",
   "metadata": {},
   "source": [
    "9. What question did you expect us to ask that we didn't?"
   ]
  },
  {
   "cell_type": "code",
   "execution_count": null,
   "id": "owned-boundary",
   "metadata": {},
   "outputs": [],
   "source": [
    "#Question 9 widgets\n",
    "q9a = widgets.Text(placeholder='Enter text')\n",
    "\n",
    "display(HBox([q9a]))"
   ]
  },
  {
   "cell_type": "code",
   "execution_count": null,
   "id": "turkish-native",
   "metadata": {},
   "outputs": [],
   "source": [
    "#define dataframe for output\n",
    "resp_cols=['org','date','q1a','q1b','q2','q3','q4','q5a','q5b','q5c','q6a','q6b','q6c','q6d','q6e','q6f','q7a','q7b','q7c','q7d','q7e','q7f','q7g','q7h','q8a','q8b','q9a']\n",
    "df = pd.DataFrame(columns=resp_cols)\n",
    "\n",
    "#function to add new row to dataframe\n",
    "def insert_row(df, my_row):\n",
    "    df.loc[len(df)] = my_row"
   ]
  },
  {
   "cell_type": "code",
   "execution_count": null,
   "id": "novel-musician",
   "metadata": {},
   "outputs": [],
   "source": [
    "#Submit button\n",
    "submit_butt=widgets.Button(description='Submit')\n",
    "out=widgets.Output()\n",
    "\n",
    "def on_submit_butt_clicked(_):\n",
    "    with out:\n",
    "        #clear_output()\n",
    "        insert_row(df,[org.value, date.value,q1a.value,q1b.value,q2.value,q3.value,q4.value,q5a.value,q5b.value,q5c.value,\n",
    "                      q6a.value,q6b.value,q6c.value,q6d.value,q6e.value,q6f.value,\n",
    "                      q7a.value,q7b.value,q7c.value,q7d.value,q7e.value,q7f.value,q7g.value,q7h.value,\n",
    "                      q8a.value,q8b.value,\n",
    "                      q9a]) #adding user input to dataframe of responses\n",
    "        print('Thank you for your feedback')\n",
    "        df.to_csv(f'survey_response.csv')\n",
    "\n",
    "submit_butt.on_click(on_submit_butt_clicked)\n",
    "\n",
    "display(VBox([submit_butt,out]))\n"
   ]
  }
 ],
 "metadata": {
  "kernelspec": {
   "display_name": "Python 3",
   "language": "python",
   "name": "python3"
  },
  "language_info": {
   "codemirror_mode": {
    "name": "ipython",
    "version": 3
   },
   "file_extension": ".py",
   "mimetype": "text/x-python",
   "name": "python",
   "nbconvert_exporter": "python",
   "pygments_lexer": "ipython3",
   "version": "3.8.6"
  },
  "toc-autonumbering": false,
  "toc-showcode": true,
  "toc-showmarkdowntxt": true
 },
 "nbformat": 4,
 "nbformat_minor": 5
}
